{
 "cells": [
  {
   "cell_type": "code",
   "execution_count": 2,
   "metadata": {
    "colab": {
     "base_uri": "https://localhost:8080/"
    },
    "id": "S8Ua50BuQmBS",
    "outputId": "214b2783-154d-45b5-97ae-61ec060d9b05"
   },
   "outputs": [
    {
     "name": "stdout",
     "output_type": "stream",
     "text": [
      "Collecting cairocffi\n",
      "  Downloading cairocffi-1.3.0.tar.gz (88 kB)\n",
      "\u001b[?25l\r",
      "\u001b[K     |███▊                            | 10 kB 18.6 MB/s eta 0:00:01\r",
      "\u001b[K     |███████▍                        | 20 kB 24.0 MB/s eta 0:00:01\r",
      "\u001b[K     |███████████                     | 30 kB 19.0 MB/s eta 0:00:01\r",
      "\u001b[K     |██████████████▊                 | 40 kB 15.1 MB/s eta 0:00:01\r",
      "\u001b[K     |██████████████████▌             | 51 kB 8.5 MB/s eta 0:00:01\r",
      "\u001b[K     |██████████████████████▏         | 61 kB 9.2 MB/s eta 0:00:01\r",
      "\u001b[K     |█████████████████████████▉      | 71 kB 8.5 MB/s eta 0:00:01\r",
      "\u001b[K     |█████████████████████████████▌  | 81 kB 9.3 MB/s eta 0:00:01\r",
      "\u001b[K     |████████████████████████████████| 88 kB 4.5 MB/s \n",
      "\u001b[?25hRequirement already satisfied: cffi>=1.1.0 in /usr/local/lib/python3.7/dist-packages (from cairocffi) (1.15.0)\n",
      "Requirement already satisfied: pycparser in /usr/local/lib/python3.7/dist-packages (from cffi>=1.1.0->cairocffi) (2.21)\n",
      "Building wheels for collected packages: cairocffi\n",
      "  Building wheel for cairocffi (setup.py) ... \u001b[?25l\u001b[?25hdone\n",
      "  Created wheel for cairocffi: filename=cairocffi-1.3.0-py3-none-any.whl size=89668 sha256=565e95f1018678b9f4dffd9cc776b667de54da912b4e9cf78fdbf827f506a9e0\n",
      "  Stored in directory: /root/.cache/pip/wheels/4e/ca/e1/5c8a9692a27f639a07c949044bec943f26c81cd53d3805319f\n",
      "Successfully built cairocffi\n",
      "Installing collected packages: cairocffi\n",
      "Successfully installed cairocffi-1.3.0\n"
     ]
    }
   ],
   "source": [
    "pip install cairocffi"
   ]
  },
  {
   "cell_type": "code",
   "execution_count": 3,
   "metadata": {
    "id": "Sg0nJDaXQu4T"
   },
   "outputs": [],
   "source": [
    "import cairocffi"
   ]
  },
  {
   "cell_type": "code",
   "execution_count": 5,
   "metadata": {
    "colab": {
     "base_uri": "https://localhost:8080/"
    },
    "id": "cAnhUSeLRD4J",
    "outputId": "10a2d73e-12ae-40b3-d165-67f1e3d7c8f6"
   },
   "outputs": [
    {
     "name": "stdout",
     "output_type": "stream",
     "text": [
      "Collecting igraph\n",
      "  Downloading igraph-0.9.9-cp37-cp37m-manylinux_2_17_x86_64.manylinux2014_x86_64.whl (3.1 MB)\n",
      "\u001b[K     |████████████████████████████████| 3.1 MB 9.7 MB/s \n",
      "\u001b[?25hCollecting texttable>=1.6.2\n",
      "  Downloading texttable-1.6.4-py2.py3-none-any.whl (10 kB)\n",
      "Installing collected packages: texttable, igraph\n",
      "Successfully installed igraph-0.9.9 texttable-1.6.4\n"
     ]
    }
   ],
   "source": [
    "pip install igraph"
   ]
  },
  {
   "cell_type": "code",
   "execution_count": 6,
   "metadata": {
    "id": "yEIc5FFuSNzJ"
   },
   "outputs": [],
   "source": [
    "import igraph"
   ]
  },
  {
   "cell_type": "code",
   "execution_count": null,
   "metadata": {
    "id": "b6OuD0EQSSV7"
   },
   "outputs": [],
   "source": [
    "g = igraph.Graph.Read_Ncol('books.txt', directed = True)"
   ]
  },
  {
   "cell_type": "code",
   "execution_count": null,
   "metadata": {
    "id": "lSq3o9RnTkp9"
   },
   "outputs": [],
   "source": [
    "igraph.plot(g)"
   ]
  },
  {
   "cell_type": "code",
   "execution_count": null,
   "metadata": {
    "id": "famyLwBlTnOC"
   },
   "outputs": [],
   "source": [
    "weights=g.es[“weight”]"
   ]
  },
  {
   "cell_type": "code",
   "execution_count": null,
   "metadata": {
    "id": "3NhF4cA0TnUM"
   },
   "outputs": [],
   "source": [
    "wtrap = g.community_walktrap(weights=g.es[\"weight\"], steps = 4)\n",
    "clust=wtrap.as_clustering()"
   ]
  },
  {
   "cell_type": "code",
   "execution_count": null,
   "metadata": {
    "id": "91AgxhgDTna8"
   },
   "outputs": [],
   "source": [
    "visual_style = dict()\n",
    "visual_style[\"bbox\"] = (700, 600)\n",
    "visual_style[\"vertex_label\"] = g.vs[\"name\"]\n",
    "igraph.plot(clust,mark_groups = True,**visual_style)"
   ]
  },
  {
   "cell_type": "code",
   "execution_count": null,
   "metadata": {
    "id": "e6_fz8QSTniy"
   },
   "outputs": [],
   "source": [
    "labelProp = g.community_label_propagation(weights=g.es[\"weight\"])\n",
    "igraph.plot(labelProp,mark_groups = True,**visual_style)"
   ]
  },
  {
   "cell_type": "code",
   "execution_count": null,
   "metadata": {
    "id": "G9d2Soy2TwYA"
   },
   "outputs": [],
   "source": [
    "wtrapnoweights = g.community_walktrap(steps = 4)\n",
    "clustnoweights=wtrapnoweights.as_clustering()"
   ]
  },
  {
   "cell_type": "code",
   "execution_count": null,
   "metadata": {
    "id": "lRpWw1FkTwmd"
   },
   "outputs": [],
   "source": [
    "wtrapnoweights = g.community_walktrap(steps = 4)\n",
    "clustnoweights=wtrapnoweights.as_clustering()\n",
    "igraph.plot(clustnoweights,mark_groups = True, **visual_style)"
   ]
  }
 ],
 "metadata": {
  "colab": {
   "collapsed_sections": [],
   "name": "Untitled0.ipynb",
   "provenance": []
  },
  "kernelspec": {
   "display_name": "Python 3",
   "language": "python",
   "name": "python3"
  },
  "language_info": {
   "codemirror_mode": {
    "name": "ipython",
    "version": 3
   },
   "file_extension": ".py",
   "mimetype": "text/x-python",
   "name": "python",
   "nbconvert_exporter": "python",
   "pygments_lexer": "ipython3",
   "version": "3.7.6"
  }
 },
 "nbformat": 4,
 "nbformat_minor": 1
}
