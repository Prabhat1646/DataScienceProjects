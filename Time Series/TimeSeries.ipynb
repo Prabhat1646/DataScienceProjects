{
 "cells": [
  {
   "cell_type": "code",
   "execution_count": 1,
   "metadata": {},
   "outputs": [
    {
     "name": "stdout",
     "output_type": "stream",
     "text": [
      "Collecting pandas_datareader\n",
      "  Downloading pandas_datareader-0.10.0-py3-none-any.whl (109 kB)\n",
      "Requirement already satisfied: requests>=2.19.0 in c:\\users\\prabh\\anaconda3\\lib\\site-packages (from pandas_datareader) (2.27.1)\n",
      "Requirement already satisfied: pandas>=0.23 in c:\\users\\prabh\\anaconda3\\lib\\site-packages (from pandas_datareader) (1.3.5)\n",
      "Requirement already satisfied: lxml in c:\\users\\prabh\\anaconda3\\lib\\site-packages (from pandas_datareader) (4.5.0)\n",
      "Requirement already satisfied: idna<4,>=2.5; python_version >= \"3\" in c:\\users\\prabh\\anaconda3\\lib\\site-packages (from requests>=2.19.0->pandas_datareader) (2.8)\n",
      "Requirement already satisfied: charset-normalizer~=2.0.0; python_version >= \"3\" in c:\\users\\prabh\\anaconda3\\lib\\site-packages (from requests>=2.19.0->pandas_datareader) (2.0.12)\n",
      "Requirement already satisfied: certifi>=2017.4.17 in c:\\users\\prabh\\anaconda3\\lib\\site-packages (from requests>=2.19.0->pandas_datareader) (2021.10.8)\n",
      "Requirement already satisfied: urllib3<1.27,>=1.21.1 in c:\\users\\prabh\\anaconda3\\lib\\site-packages (from requests>=2.19.0->pandas_datareader) (1.25.8)\n",
      "Requirement already satisfied: numpy>=1.17.3; platform_machine != \"aarch64\" and platform_machine != \"arm64\" and python_version < \"3.10\" in c:\\users\\prabh\\anaconda3\\lib\\site-packages (from pandas>=0.23->pandas_datareader) (1.18.1)\n",
      "Requirement already satisfied: pytz>=2017.3 in c:\\users\\prabh\\anaconda3\\lib\\site-packages (from pandas>=0.23->pandas_datareader) (2019.3)\n",
      "Requirement already satisfied: python-dateutil>=2.7.3 in c:\\users\\prabh\\anaconda3\\lib\\site-packages (from pandas>=0.23->pandas_datareader) (2.8.1)\n",
      "Requirement already satisfied: six>=1.5 in c:\\users\\prabh\\anaconda3\\lib\\site-packages (from python-dateutil>=2.7.3->pandas>=0.23->pandas_datareader) (1.14.0)\n",
      "Installing collected packages: pandas-datareader\n",
      "Successfully installed pandas-datareader-0.10.0\n"
     ]
    }
   ],
   "source": [
    "!pip install pandas_datareader"
   ]
  },
  {
   "cell_type": "code",
   "execution_count": 3,
   "metadata": {},
   "outputs": [],
   "source": [
    "import pandas_datareader as pdr\n",
    "import pandas as pd\n",
    "from datetime import datetime"
   ]
  },
  {
   "cell_type": "code",
   "execution_count": 4,
   "metadata": {},
   "outputs": [
    {
     "data": {
      "text/html": [
       "<div>\n",
       "<style scoped>\n",
       "    .dataframe tbody tr th:only-of-type {\n",
       "        vertical-align: middle;\n",
       "    }\n",
       "\n",
       "    .dataframe tbody tr th {\n",
       "        vertical-align: top;\n",
       "    }\n",
       "\n",
       "    .dataframe thead th {\n",
       "        text-align: right;\n",
       "    }\n",
       "</style>\n",
       "<table border=\"1\" class=\"dataframe\">\n",
       "  <thead>\n",
       "    <tr style=\"text-align: right;\">\n",
       "      <th></th>\n",
       "      <th>High</th>\n",
       "      <th>Low</th>\n",
       "      <th>Open</th>\n",
       "      <th>Close</th>\n",
       "      <th>Volume</th>\n",
       "      <th>Adj Close</th>\n",
       "    </tr>\n",
       "    <tr>\n",
       "      <th>Date</th>\n",
       "      <th></th>\n",
       "      <th></th>\n",
       "      <th></th>\n",
       "      <th></th>\n",
       "      <th></th>\n",
       "      <th></th>\n",
       "    </tr>\n",
       "  </thead>\n",
       "  <tbody>\n",
       "    <tr>\n",
       "      <th>2017-03-06</th>\n",
       "      <td>50.340000</td>\n",
       "      <td>49.501999</td>\n",
       "      <td>49.582001</td>\n",
       "      <td>50.242001</td>\n",
       "      <td>16777500.0</td>\n",
       "      <td>50.242001</td>\n",
       "    </tr>\n",
       "    <tr>\n",
       "      <th>2017-03-07</th>\n",
       "      <td>50.778000</td>\n",
       "      <td>49.664001</td>\n",
       "      <td>50.383999</td>\n",
       "      <td>49.717999</td>\n",
       "      <td>17297500.0</td>\n",
       "      <td>49.717999</td>\n",
       "    </tr>\n",
       "    <tr>\n",
       "      <th>2017-03-08</th>\n",
       "      <td>50.014000</td>\n",
       "      <td>49.063999</td>\n",
       "      <td>49.400002</td>\n",
       "      <td>49.374001</td>\n",
       "      <td>18626000.0</td>\n",
       "      <td>49.374001</td>\n",
       "    </tr>\n",
       "    <tr>\n",
       "      <th>2017-03-09</th>\n",
       "      <td>49.731998</td>\n",
       "      <td>48.599998</td>\n",
       "      <td>49.526001</td>\n",
       "      <td>48.980000</td>\n",
       "      <td>19396500.0</td>\n",
       "      <td>48.980000</td>\n",
       "    </tr>\n",
       "    <tr>\n",
       "      <th>2017-03-10</th>\n",
       "      <td>49.299999</td>\n",
       "      <td>48.599998</td>\n",
       "      <td>49.242001</td>\n",
       "      <td>48.737999</td>\n",
       "      <td>15331500.0</td>\n",
       "      <td>48.737999</td>\n",
       "    </tr>\n",
       "    <tr>\n",
       "      <th>...</th>\n",
       "      <td>...</td>\n",
       "      <td>...</td>\n",
       "      <td>...</td>\n",
       "      <td>...</td>\n",
       "      <td>...</td>\n",
       "      <td>...</td>\n",
       "    </tr>\n",
       "    <tr>\n",
       "      <th>2022-02-25</th>\n",
       "      <td>819.500000</td>\n",
       "      <td>782.400024</td>\n",
       "      <td>809.229980</td>\n",
       "      <td>809.869995</td>\n",
       "      <td>25355900.0</td>\n",
       "      <td>809.869995</td>\n",
       "    </tr>\n",
       "    <tr>\n",
       "      <th>2022-02-28</th>\n",
       "      <td>876.859985</td>\n",
       "      <td>814.710022</td>\n",
       "      <td>815.010010</td>\n",
       "      <td>870.429993</td>\n",
       "      <td>33002300.0</td>\n",
       "      <td>870.429993</td>\n",
       "    </tr>\n",
       "    <tr>\n",
       "      <th>2022-03-01</th>\n",
       "      <td>889.880005</td>\n",
       "      <td>853.780029</td>\n",
       "      <td>869.679993</td>\n",
       "      <td>864.369995</td>\n",
       "      <td>24922300.0</td>\n",
       "      <td>864.369995</td>\n",
       "    </tr>\n",
       "    <tr>\n",
       "      <th>2022-03-02</th>\n",
       "      <td>886.479980</td>\n",
       "      <td>844.270020</td>\n",
       "      <td>872.130005</td>\n",
       "      <td>879.890015</td>\n",
       "      <td>24881100.0</td>\n",
       "      <td>879.890015</td>\n",
       "    </tr>\n",
       "    <tr>\n",
       "      <th>2022-03-03</th>\n",
       "      <td>886.439026</td>\n",
       "      <td>832.600098</td>\n",
       "      <td>878.770020</td>\n",
       "      <td>839.289978</td>\n",
       "      <td>20541169.0</td>\n",
       "      <td>839.289978</td>\n",
       "    </tr>\n",
       "  </tbody>\n",
       "</table>\n",
       "<p>1259 rows × 6 columns</p>\n",
       "</div>"
      ],
      "text/plain": [
       "                  High         Low        Open       Close      Volume  \\\n",
       "Date                                                                     \n",
       "2017-03-06   50.340000   49.501999   49.582001   50.242001  16777500.0   \n",
       "2017-03-07   50.778000   49.664001   50.383999   49.717999  17297500.0   \n",
       "2017-03-08   50.014000   49.063999   49.400002   49.374001  18626000.0   \n",
       "2017-03-09   49.731998   48.599998   49.526001   48.980000  19396500.0   \n",
       "2017-03-10   49.299999   48.599998   49.242001   48.737999  15331500.0   \n",
       "...                ...         ...         ...         ...         ...   \n",
       "2022-02-25  819.500000  782.400024  809.229980  809.869995  25355900.0   \n",
       "2022-02-28  876.859985  814.710022  815.010010  870.429993  33002300.0   \n",
       "2022-03-01  889.880005  853.780029  869.679993  864.369995  24922300.0   \n",
       "2022-03-02  886.479980  844.270020  872.130005  879.890015  24881100.0   \n",
       "2022-03-03  886.439026  832.600098  878.770020  839.289978  20541169.0   \n",
       "\n",
       "             Adj Close  \n",
       "Date                    \n",
       "2017-03-06   50.242001  \n",
       "2017-03-07   49.717999  \n",
       "2017-03-08   49.374001  \n",
       "2017-03-09   48.980000  \n",
       "2017-03-10   48.737999  \n",
       "...                ...  \n",
       "2022-02-25  809.869995  \n",
       "2022-02-28  870.429993  \n",
       "2022-03-01  864.369995  \n",
       "2022-03-02  879.890015  \n",
       "2022-03-03  839.289978  \n",
       "\n",
       "[1259 rows x 6 columns]"
      ]
     },
     "execution_count": 4,
     "metadata": {},
     "output_type": "execute_result"
    }
   ],
   "source": [
    "df_tesla=pdr.get_data_yahoo('TSLA')\n",
    "df_tesla"
   ]
  },
  {
   "cell_type": "code",
   "execution_count": 5,
   "metadata": {},
   "outputs": [
    {
     "data": {
      "text/plain": [
       "<AxesSubplot:xlabel='Date'>"
      ]
     },
     "execution_count": 5,
     "metadata": {},
     "output_type": "execute_result"
    },
    {
     "data": {
      "image/png": "[encoded data removed]",
      "text/plain": [
       "<Figure size 864x288 with 1 Axes>"
      ]
     },
     "metadata": {
      "needs_background": "light"
     },
     "output_type": "display_data"
    }
   ],
   "source": [
    "df_tesla['High'].plot(figsize=(12,4))"
   ]
  },
  {
   "cell_type": "code",
   "execution_count": 6,
   "metadata": {},
   "outputs": [
    {
     "data": {
      "text/plain": [
       "<AxesSubplot:xlabel='Date'>"
      ]
     },
     "execution_count": 6,
     "metadata": {},
     "output_type": "execute_result"
    },
    {
     "data": {
      "image/png": "[encoded data removed]",
      "text/plain": [
       "<Figure size 864x288 with 1 Axes>"
      ]
     },
     "metadata": {
      "needs_background": "light"
     },
     "output_type": "display_data"
    }
   ],
   "source": [
    "df_tesla['High'].plot(xlim=['2022-02-01','2022-02-28'],figsize=(12,4))"
   ]
  },
  {
   "cell_type": "code",
   "execution_count": 7,
   "metadata": {},
   "outputs": [],
   "source": [
    "index=df_tesla.loc['2022-02-01':'2022-02-28'].index\n",
    "share_open=df_tesla.loc['2022-02-01':'2022-02-28']['Open']"
   ]
  },
  {
   "cell_type": "code",
   "execution_count": 12,
   "metadata": {},
   "outputs": [
    {
     "data": {
      "image/png": "[encoded data removed]",
      "text/plain": [
       "<Figure size 1440x432 with 1 Axes>"
      ]
     },
     "metadata": {
      "needs_background": "light"
     },
     "output_type": "display_data"
    }
   ],
   "source": [
    "import seaborn as sns\n",
    "import matplotlib.pyplot as plt\n",
    "%matplotlib inline\n",
    "plt.figure(figsize=(20,6))\n",
    "plt.xticks(rotation=45)\n",
    "sns.barplot(x=index,y=share_open)\n",
    "plt.show()"
   ]
  },
  {
   "cell_type": "code",
   "execution_count": 13,
   "metadata": {},
   "outputs": [],
   "source": [
    "index1=df_tesla.loc['2020-01-01':'2021-09-01'].index\n",
    "share_open1=df_tesla.loc['2020-01-01':'2021-09-01']['Open']"
   ]
  },
  {
   "cell_type": "code",
   "execution_count": 14,
   "metadata": {},
   "outputs": [
    {
     "data": {
      "text/plain": [
       "[<matplotlib.lines.Line2D at 0x1add63a8a88>]"
      ]
     },
     "execution_count": 14,
     "metadata": {},
     "output_type": "execute_result"
    },
    {
     "data": {
      "image/png": "[encoded data removed]",
      "text/plain": [
       "<Figure size 432x288 with 1 Axes>"
      ]
     },
     "metadata": {
      "needs_background": "light"
     },
     "output_type": "display_data"
    }
   ],
   "source": [
    "figure,axis=plt.subplots()\n",
    "plt.tight_layout()\n",
    "## Preventing overlapping\n",
    "figure.autofmt_xdate()\n",
    "axis.plot(index1,share_open1)"
   ]
  },
  {
   "cell_type": "markdown",
   "metadata": {},
   "source": [
    "### Datetime Index"
   ]
  },
  {
   "cell_type": "code",
   "execution_count": 15,
   "metadata": {},
   "outputs": [
    {
     "data": {
      "text/html": [
       "<div>\n",
       "<style scoped>\n",
       "    .dataframe tbody tr th:only-of-type {\n",
       "        vertical-align: middle;\n",
       "    }\n",
       "\n",
       "    .dataframe tbody tr th {\n",
       "        vertical-align: top;\n",
       "    }\n",
       "\n",
       "    .dataframe thead th {\n",
       "        text-align: right;\n",
       "    }\n",
       "</style>\n",
       "<table border=\"1\" class=\"dataframe\">\n",
       "  <thead>\n",
       "    <tr style=\"text-align: right;\">\n",
       "      <th></th>\n",
       "      <th>Date</th>\n",
       "      <th>High</th>\n",
       "      <th>Low</th>\n",
       "      <th>Open</th>\n",
       "      <th>Close</th>\n",
       "      <th>Volume</th>\n",
       "      <th>Adj Close</th>\n",
       "    </tr>\n",
       "  </thead>\n",
       "  <tbody>\n",
       "    <tr>\n",
       "      <th>0</th>\n",
       "      <td>2017-03-06</td>\n",
       "      <td>50.340000</td>\n",
       "      <td>49.501999</td>\n",
       "      <td>49.582001</td>\n",
       "      <td>50.242001</td>\n",
       "      <td>16777500.0</td>\n",
       "      <td>50.242001</td>\n",
       "    </tr>\n",
       "    <tr>\n",
       "      <th>1</th>\n",
       "      <td>2017-03-07</td>\n",
       "      <td>50.778000</td>\n",
       "      <td>49.664001</td>\n",
       "      <td>50.383999</td>\n",
       "      <td>49.717999</td>\n",
       "      <td>17297500.0</td>\n",
       "      <td>49.717999</td>\n",
       "    </tr>\n",
       "    <tr>\n",
       "      <th>2</th>\n",
       "      <td>2017-03-08</td>\n",
       "      <td>50.014000</td>\n",
       "      <td>49.063999</td>\n",
       "      <td>49.400002</td>\n",
       "      <td>49.374001</td>\n",
       "      <td>18626000.0</td>\n",
       "      <td>49.374001</td>\n",
       "    </tr>\n",
       "    <tr>\n",
       "      <th>3</th>\n",
       "      <td>2017-03-09</td>\n",
       "      <td>49.731998</td>\n",
       "      <td>48.599998</td>\n",
       "      <td>49.526001</td>\n",
       "      <td>48.980000</td>\n",
       "      <td>19396500.0</td>\n",
       "      <td>48.980000</td>\n",
       "    </tr>\n",
       "    <tr>\n",
       "      <th>4</th>\n",
       "      <td>2017-03-10</td>\n",
       "      <td>49.299999</td>\n",
       "      <td>48.599998</td>\n",
       "      <td>49.242001</td>\n",
       "      <td>48.737999</td>\n",
       "      <td>15331500.0</td>\n",
       "      <td>48.737999</td>\n",
       "    </tr>\n",
       "    <tr>\n",
       "      <th>...</th>\n",
       "      <td>...</td>\n",
       "      <td>...</td>\n",
       "      <td>...</td>\n",
       "      <td>...</td>\n",
       "      <td>...</td>\n",
       "      <td>...</td>\n",
       "      <td>...</td>\n",
       "    </tr>\n",
       "    <tr>\n",
       "      <th>1254</th>\n",
       "      <td>2022-02-25</td>\n",
       "      <td>819.500000</td>\n",
       "      <td>782.400024</td>\n",
       "      <td>809.229980</td>\n",
       "      <td>809.869995</td>\n",
       "      <td>25355900.0</td>\n",
       "      <td>809.869995</td>\n",
       "    </tr>\n",
       "    <tr>\n",
       "      <th>1255</th>\n",
       "      <td>2022-02-28</td>\n",
       "      <td>876.859985</td>\n",
       "      <td>814.710022</td>\n",
       "      <td>815.010010</td>\n",
       "      <td>870.429993</td>\n",
       "      <td>33002300.0</td>\n",
       "      <td>870.429993</td>\n",
       "    </tr>\n",
       "    <tr>\n",
       "      <th>1256</th>\n",
       "      <td>2022-03-01</td>\n",
       "      <td>889.880005</td>\n",
       "      <td>853.780029</td>\n",
       "      <td>869.679993</td>\n",
       "      <td>864.369995</td>\n",
       "      <td>24922300.0</td>\n",
       "      <td>864.369995</td>\n",
       "    </tr>\n",
       "    <tr>\n",
       "      <th>1257</th>\n",
       "      <td>2022-03-02</td>\n",
       "      <td>886.479980</td>\n",
       "      <td>844.270020</td>\n",
       "      <td>872.130005</td>\n",
       "      <td>879.890015</td>\n",
       "      <td>24881100.0</td>\n",
       "      <td>879.890015</td>\n",
       "    </tr>\n",
       "    <tr>\n",
       "      <th>1258</th>\n",
       "      <td>2022-03-03</td>\n",
       "      <td>886.439026</td>\n",
       "      <td>832.600098</td>\n",
       "      <td>878.770020</td>\n",
       "      <td>839.289978</td>\n",
       "      <td>20541169.0</td>\n",
       "      <td>839.289978</td>\n",
       "    </tr>\n",
       "  </tbody>\n",
       "</table>\n",
       "<p>1259 rows × 7 columns</p>\n",
       "</div>"
      ],
      "text/plain": [
       "           Date        High         Low        Open       Close      Volume  \\\n",
       "0    2017-03-06   50.340000   49.501999   49.582001   50.242001  16777500.0   \n",
       "1    2017-03-07   50.778000   49.664001   50.383999   49.717999  17297500.0   \n",
       "2    2017-03-08   50.014000   49.063999   49.400002   49.374001  18626000.0   \n",
       "3    2017-03-09   49.731998   48.599998   49.526001   48.980000  19396500.0   \n",
       "4    2017-03-10   49.299999   48.599998   49.242001   48.737999  15331500.0   \n",
       "...         ...         ...         ...         ...         ...         ...   \n",
       "1254 2022-02-25  819.500000  782.400024  809.229980  809.869995  25355900.0   \n",
       "1255 2022-02-28  876.859985  814.710022  815.010010  870.429993  33002300.0   \n",
       "1256 2022-03-01  889.880005  853.780029  869.679993  864.369995  24922300.0   \n",
       "1257 2022-03-02  886.479980  844.270020  872.130005  879.890015  24881100.0   \n",
       "1258 2022-03-03  886.439026  832.600098  878.770020  839.289978  20541169.0   \n",
       "\n",
       "       Adj Close  \n",
       "0      50.242001  \n",
       "1      49.717999  \n",
       "2      49.374001  \n",
       "3      48.980000  \n",
       "4      48.737999  \n",
       "...          ...  \n",
       "1254  809.869995  \n",
       "1255  870.429993  \n",
       "1256  864.369995  \n",
       "1257  879.890015  \n",
       "1258  839.289978  \n",
       "\n",
       "[1259 rows x 7 columns]"
      ]
     },
     "execution_count": 15,
     "metadata": {},
     "output_type": "execute_result"
    }
   ],
   "source": [
    "df_tesla=df_tesla.reset_index()\n",
    "df_tesla"
   ]
  },
  {
   "cell_type": "code",
   "execution_count": 16,
   "metadata": {},
   "outputs": [
    {
     "data": {
      "text/html": [
       "<div>\n",
       "<style scoped>\n",
       "    .dataframe tbody tr th:only-of-type {\n",
       "        vertical-align: middle;\n",
       "    }\n",
       "\n",
       "    .dataframe tbody tr th {\n",
       "        vertical-align: top;\n",
       "    }\n",
       "\n",
       "    .dataframe thead th {\n",
       "        text-align: right;\n",
       "    }\n",
       "</style>\n",
       "<table border=\"1\" class=\"dataframe\">\n",
       "  <thead>\n",
       "    <tr style=\"text-align: right;\">\n",
       "      <th></th>\n",
       "      <th>High</th>\n",
       "      <th>Low</th>\n",
       "      <th>Open</th>\n",
       "      <th>Close</th>\n",
       "      <th>Volume</th>\n",
       "      <th>Adj Close</th>\n",
       "    </tr>\n",
       "    <tr>\n",
       "      <th>Date</th>\n",
       "      <th></th>\n",
       "      <th></th>\n",
       "      <th></th>\n",
       "      <th></th>\n",
       "      <th></th>\n",
       "      <th></th>\n",
       "    </tr>\n",
       "  </thead>\n",
       "  <tbody>\n",
       "    <tr>\n",
       "      <th>2017-03-06</th>\n",
       "      <td>50.340000</td>\n",
       "      <td>49.501999</td>\n",
       "      <td>49.582001</td>\n",
       "      <td>50.242001</td>\n",
       "      <td>16777500.0</td>\n",
       "      <td>50.242001</td>\n",
       "    </tr>\n",
       "    <tr>\n",
       "      <th>2017-03-07</th>\n",
       "      <td>50.778000</td>\n",
       "      <td>49.664001</td>\n",
       "      <td>50.383999</td>\n",
       "      <td>49.717999</td>\n",
       "      <td>17297500.0</td>\n",
       "      <td>49.717999</td>\n",
       "    </tr>\n",
       "    <tr>\n",
       "      <th>2017-03-08</th>\n",
       "      <td>50.014000</td>\n",
       "      <td>49.063999</td>\n",
       "      <td>49.400002</td>\n",
       "      <td>49.374001</td>\n",
       "      <td>18626000.0</td>\n",
       "      <td>49.374001</td>\n",
       "    </tr>\n",
       "    <tr>\n",
       "      <th>2017-03-09</th>\n",
       "      <td>49.731998</td>\n",
       "      <td>48.599998</td>\n",
       "      <td>49.526001</td>\n",
       "      <td>48.980000</td>\n",
       "      <td>19396500.0</td>\n",
       "      <td>48.980000</td>\n",
       "    </tr>\n",
       "    <tr>\n",
       "      <th>2017-03-10</th>\n",
       "      <td>49.299999</td>\n",
       "      <td>48.599998</td>\n",
       "      <td>49.242001</td>\n",
       "      <td>48.737999</td>\n",
       "      <td>15331500.0</td>\n",
       "      <td>48.737999</td>\n",
       "    </tr>\n",
       "    <tr>\n",
       "      <th>...</th>\n",
       "      <td>...</td>\n",
       "      <td>...</td>\n",
       "      <td>...</td>\n",
       "      <td>...</td>\n",
       "      <td>...</td>\n",
       "      <td>...</td>\n",
       "    </tr>\n",
       "    <tr>\n",
       "      <th>2022-02-25</th>\n",
       "      <td>819.500000</td>\n",
       "      <td>782.400024</td>\n",
       "      <td>809.229980</td>\n",
       "      <td>809.869995</td>\n",
       "      <td>25355900.0</td>\n",
       "      <td>809.869995</td>\n",
       "    </tr>\n",
       "    <tr>\n",
       "      <th>2022-02-28</th>\n",
       "      <td>876.859985</td>\n",
       "      <td>814.710022</td>\n",
       "      <td>815.010010</td>\n",
       "      <td>870.429993</td>\n",
       "      <td>33002300.0</td>\n",
       "      <td>870.429993</td>\n",
       "    </tr>\n",
       "    <tr>\n",
       "      <th>2022-03-01</th>\n",
       "      <td>889.880005</td>\n",
       "      <td>853.780029</td>\n",
       "      <td>869.679993</td>\n",
       "      <td>864.369995</td>\n",
       "      <td>24922300.0</td>\n",
       "      <td>864.369995</td>\n",
       "    </tr>\n",
       "    <tr>\n",
       "      <th>2022-03-02</th>\n",
       "      <td>886.479980</td>\n",
       "      <td>844.270020</td>\n",
       "      <td>872.130005</td>\n",
       "      <td>879.890015</td>\n",
       "      <td>24881100.0</td>\n",
       "      <td>879.890015</td>\n",
       "    </tr>\n",
       "    <tr>\n",
       "      <th>2022-03-03</th>\n",
       "      <td>886.439026</td>\n",
       "      <td>832.600098</td>\n",
       "      <td>878.770020</td>\n",
       "      <td>839.289978</td>\n",
       "      <td>20541169.0</td>\n",
       "      <td>839.289978</td>\n",
       "    </tr>\n",
       "  </tbody>\n",
       "</table>\n",
       "<p>1259 rows × 6 columns</p>\n",
       "</div>"
      ],
      "text/plain": [
       "                  High         Low        Open       Close      Volume  \\\n",
       "Date                                                                     \n",
       "2017-03-06   50.340000   49.501999   49.582001   50.242001  16777500.0   \n",
       "2017-03-07   50.778000   49.664001   50.383999   49.717999  17297500.0   \n",
       "2017-03-08   50.014000   49.063999   49.400002   49.374001  18626000.0   \n",
       "2017-03-09   49.731998   48.599998   49.526001   48.980000  19396500.0   \n",
       "2017-03-10   49.299999   48.599998   49.242001   48.737999  15331500.0   \n",
       "...                ...         ...         ...         ...         ...   \n",
       "2022-02-25  819.500000  782.400024  809.229980  809.869995  25355900.0   \n",
       "2022-02-28  876.859985  814.710022  815.010010  870.429993  33002300.0   \n",
       "2022-03-01  889.880005  853.780029  869.679993  864.369995  24922300.0   \n",
       "2022-03-02  886.479980  844.270020  872.130005  879.890015  24881100.0   \n",
       "2022-03-03  886.439026  832.600098  878.770020  839.289978  20541169.0   \n",
       "\n",
       "             Adj Close  \n",
       "Date                    \n",
       "2017-03-06   50.242001  \n",
       "2017-03-07   49.717999  \n",
       "2017-03-08   49.374001  \n",
       "2017-03-09   48.980000  \n",
       "2017-03-10   48.737999  \n",
       "...                ...  \n",
       "2022-02-25  809.869995  \n",
       "2022-02-28  870.429993  \n",
       "2022-03-01  864.369995  \n",
       "2022-03-02  879.890015  \n",
       "2022-03-03  839.289978  \n",
       "\n",
       "[1259 rows x 6 columns]"
      ]
     },
     "execution_count": 16,
     "metadata": {},
     "output_type": "execute_result"
    }
   ],
   "source": [
    "df_tesla=df_tesla.set_index('Date',drop=True)\n",
    "df_tesla"
   ]
  },
  {
   "cell_type": "markdown",
   "metadata": {},
   "source": [
    "### Testing datetime"
   ]
  },
  {
   "cell_type": "code",
   "execution_count": 17,
   "metadata": {},
   "outputs": [
    {
     "data": {
      "text/plain": [
       "datetime.datetime(2022, 3, 4, 9, 23, 10, 448018)"
      ]
     },
     "execution_count": 17,
     "metadata": {},
     "output_type": "execute_result"
    }
   ],
   "source": [
    "from datetime import datetime\n",
    "datetime.now()"
   ]
  },
  {
   "cell_type": "code",
   "execution_count": 22,
   "metadata": {},
   "outputs": [
    {
     "data": {
      "text/plain": [
       "27"
      ]
     },
     "execution_count": 22,
     "metadata": {},
     "output_type": "execute_result"
    }
   ],
   "source": [
    "date=datetime(2022,2,27)\n",
    "date.day"
   ]
  },
  {
   "cell_type": "code",
   "execution_count": 23,
   "metadata": {},
   "outputs": [
    {
     "data": {
      "text/plain": [
       "6"
      ]
     },
     "execution_count": 23,
     "metadata": {},
     "output_type": "execute_result"
    }
   ],
   "source": [
    "date.weekday()"
   ]
  },
  {
   "cell_type": "markdown",
   "metadata": {},
   "source": [
    "### Time Resampling"
   ]
  },
  {
   "cell_type": "code",
   "execution_count": 25,
   "metadata": {},
   "outputs": [
    {
     "data": {
      "text/plain": [
       "<AxesSubplot:xlabel='Date'>"
      ]
     },
     "execution_count": 25,
     "metadata": {},
     "output_type": "execute_result"
    },
    {
     "data": {
      "image/png": "[encoded data removed]",
      "text/plain": [
       "<Figure size 432x288 with 1 Axes>"
      ]
     },
     "metadata": {
      "needs_background": "light"
     },
     "output_type": "display_data"
    }
   ],
   "source": [
    "# Year end frequency\n",
    "df_tesla.resample(rule='A').min()['Open'].plot()"
   ]
  },
  {
   "cell_type": "code",
   "execution_count": 26,
   "metadata": {},
   "outputs": [
    {
     "data": {
      "text/plain": [
       "<AxesSubplot:xlabel='Date'>"
      ]
     },
     "execution_count": 26,
     "metadata": {},
     "output_type": "execute_result"
    },
    {
     "data": {
      "image/png": "[encoded data removed]",
      "text/plain": [
       "<Figure size 432x288 with 1 Axes>"
      ]
     },
     "metadata": {
      "needs_background": "light"
     },
     "output_type": "display_data"
    }
   ],
   "source": [
    "# Quaterly frequency\n",
    "df_tesla.resample(rule='QS').max()['High'].plot()"
   ]
  },
  {
   "cell_type": "code",
   "execution_count": 29,
   "metadata": {},
   "outputs": [
    {
     "data": {
      "text/html": [
       "<div>\n",
       "<style scoped>\n",
       "    .dataframe tbody tr th:only-of-type {\n",
       "        vertical-align: middle;\n",
       "    }\n",
       "\n",
       "    .dataframe tbody tr th {\n",
       "        vertical-align: top;\n",
       "    }\n",
       "\n",
       "    .dataframe thead th {\n",
       "        text-align: right;\n",
       "    }\n",
       "</style>\n",
       "<table border=\"1\" class=\"dataframe\">\n",
       "  <thead>\n",
       "    <tr style=\"text-align: right;\">\n",
       "      <th></th>\n",
       "      <th>High</th>\n",
       "      <th>Low</th>\n",
       "      <th>Open</th>\n",
       "      <th>Close</th>\n",
       "      <th>Volume</th>\n",
       "      <th>Adj Close</th>\n",
       "    </tr>\n",
       "    <tr>\n",
       "      <th>Date</th>\n",
       "      <th></th>\n",
       "      <th></th>\n",
       "      <th></th>\n",
       "      <th></th>\n",
       "      <th></th>\n",
       "      <th></th>\n",
       "    </tr>\n",
       "  </thead>\n",
       "  <tbody>\n",
       "    <tr>\n",
       "      <th>2017-12-29</th>\n",
       "      <td>77.921997</td>\n",
       "      <td>75.870003</td>\n",
       "      <td>77.337997</td>\n",
       "      <td>77.000000</td>\n",
       "      <td>98957000.0</td>\n",
       "      <td>77.000000</td>\n",
       "    </tr>\n",
       "    <tr>\n",
       "      <th>2018-12-31</th>\n",
       "      <td>77.491997</td>\n",
       "      <td>73.424004</td>\n",
       "      <td>75.000000</td>\n",
       "      <td>75.914001</td>\n",
       "      <td>168248500.0</td>\n",
       "      <td>75.914001</td>\n",
       "    </tr>\n",
       "    <tr>\n",
       "      <th>2019-12-31</th>\n",
       "      <td>87.061996</td>\n",
       "      <td>85.269997</td>\n",
       "      <td>87.000000</td>\n",
       "      <td>86.188004</td>\n",
       "      <td>150030500.0</td>\n",
       "      <td>86.188004</td>\n",
       "    </tr>\n",
       "    <tr>\n",
       "      <th>2020-12-31</th>\n",
       "      <td>718.719971</td>\n",
       "      <td>691.119995</td>\n",
       "      <td>699.989990</td>\n",
       "      <td>705.669983</td>\n",
       "      <td>304694000.0</td>\n",
       "      <td>705.669983</td>\n",
       "    </tr>\n",
       "    <tr>\n",
       "      <th>2021-12-31</th>\n",
       "      <td>1243.489990</td>\n",
       "      <td>1217.000000</td>\n",
       "      <td>1234.410034</td>\n",
       "      <td>1229.910034</td>\n",
       "      <td>89396500.0</td>\n",
       "      <td>1229.910034</td>\n",
       "    </tr>\n",
       "  </tbody>\n",
       "</table>\n",
       "</div>"
      ],
      "text/plain": [
       "                   High          Low         Open        Close       Volume  \\\n",
       "Date                                                                          \n",
       "2017-12-29    77.921997    75.870003    77.337997    77.000000   98957000.0   \n",
       "2018-12-31    77.491997    73.424004    75.000000    75.914001  168248500.0   \n",
       "2019-12-31    87.061996    85.269997    87.000000    86.188004  150030500.0   \n",
       "2020-12-31   718.719971   691.119995   699.989990   705.669983  304694000.0   \n",
       "2021-12-31  1243.489990  1217.000000  1234.410034  1229.910034   89396500.0   \n",
       "\n",
       "              Adj Close  \n",
       "Date                     \n",
       "2017-12-29    77.000000  \n",
       "2018-12-31    75.914001  \n",
       "2019-12-31    86.188004  \n",
       "2020-12-31   705.669983  \n",
       "2021-12-31  1229.910034  "
      ]
     },
     "execution_count": 29,
     "metadata": {},
     "output_type": "execute_result"
    }
   ],
   "source": [
    "df_tesla.resample(rule='BA').max().head()"
   ]
  },
  {
   "cell_type": "code",
   "execution_count": 32,
   "metadata": {},
   "outputs": [
    {
     "data": {
      "text/plain": [
       "<AxesSubplot:xlabel='Date'>"
      ]
     },
     "execution_count": 32,
     "metadata": {},
     "output_type": "execute_result"
    },
    {
     "data": {
      "image/png": "[encoded data removed]",
      "text/plain": [
       "<Figure size 1152x432 with 1 Axes>"
      ]
     },
     "metadata": {
      "needs_background": "light"
     },
     "output_type": "display_data"
    }
   ],
   "source": [
    "df_tesla['Open'].resample(rule='M').mean().plot(kind='bar',figsize=(16,6))"
   ]
  },
  {
   "cell_type": "code",
   "execution_count": 33,
   "metadata": {},
   "outputs": [
    {
     "data": {
      "text/plain": [
       "Date\n",
       "2017-03-06          NaN\n",
       "2017-03-07          NaN\n",
       "2017-03-08          NaN\n",
       "2017-03-09          NaN\n",
       "2017-03-10          NaN\n",
       "2017-03-13          NaN\n",
       "2017-03-14          NaN\n",
       "2017-03-15          NaN\n",
       "2017-03-16          NaN\n",
       "2017-03-17          NaN\n",
       "2017-03-20    53.150002\n",
       "2017-03-21    53.150002\n",
       "2017-03-22    53.150002\n",
       "2017-03-23    53.150002\n",
       "2017-03-24    53.150002\n",
       "2017-03-27    54.113998\n",
       "2017-03-28    56.136002\n",
       "2017-03-29    56.136002\n",
       "2017-03-30    56.400002\n",
       "2017-03-31    56.400002\n",
       "Name: High, dtype: float64"
      ]
     },
     "execution_count": 33,
     "metadata": {},
     "output_type": "execute_result"
    }
   ],
   "source": [
    " df_tesla['High'].rolling(11).max().head(20)"
   ]
  },
  {
   "cell_type": "code",
   "execution_count": 34,
   "metadata": {},
   "outputs": [
    {
     "data": {
      "text/html": [
       "<div>\n",
       "<style scoped>\n",
       "    .dataframe tbody tr th:only-of-type {\n",
       "        vertical-align: middle;\n",
       "    }\n",
       "\n",
       "    .dataframe tbody tr th {\n",
       "        vertical-align: top;\n",
       "    }\n",
       "\n",
       "    .dataframe thead th {\n",
       "        text-align: right;\n",
       "    }\n",
       "</style>\n",
       "<table border=\"1\" class=\"dataframe\">\n",
       "  <thead>\n",
       "    <tr style=\"text-align: right;\">\n",
       "      <th></th>\n",
       "      <th>High</th>\n",
       "      <th>Low</th>\n",
       "      <th>Open</th>\n",
       "      <th>Close</th>\n",
       "      <th>Volume</th>\n",
       "      <th>Adj Close</th>\n",
       "      <th>Open:30 days roling</th>\n",
       "    </tr>\n",
       "    <tr>\n",
       "      <th>Date</th>\n",
       "      <th></th>\n",
       "      <th></th>\n",
       "      <th></th>\n",
       "      <th></th>\n",
       "      <th></th>\n",
       "      <th></th>\n",
       "      <th></th>\n",
       "    </tr>\n",
       "  </thead>\n",
       "  <tbody>\n",
       "    <tr>\n",
       "      <th>2017-03-06</th>\n",
       "      <td>50.340000</td>\n",
       "      <td>49.501999</td>\n",
       "      <td>49.582001</td>\n",
       "      <td>50.242001</td>\n",
       "      <td>16777500.0</td>\n",
       "      <td>50.242001</td>\n",
       "      <td>NaN</td>\n",
       "    </tr>\n",
       "    <tr>\n",
       "      <th>2017-03-07</th>\n",
       "      <td>50.778000</td>\n",
       "      <td>49.664001</td>\n",
       "      <td>50.383999</td>\n",
       "      <td>49.717999</td>\n",
       "      <td>17297500.0</td>\n",
       "      <td>49.717999</td>\n",
       "      <td>NaN</td>\n",
       "    </tr>\n",
       "    <tr>\n",
       "      <th>2017-03-08</th>\n",
       "      <td>50.014000</td>\n",
       "      <td>49.063999</td>\n",
       "      <td>49.400002</td>\n",
       "      <td>49.374001</td>\n",
       "      <td>18626000.0</td>\n",
       "      <td>49.374001</td>\n",
       "      <td>NaN</td>\n",
       "    </tr>\n",
       "    <tr>\n",
       "      <th>2017-03-09</th>\n",
       "      <td>49.731998</td>\n",
       "      <td>48.599998</td>\n",
       "      <td>49.526001</td>\n",
       "      <td>48.980000</td>\n",
       "      <td>19396500.0</td>\n",
       "      <td>48.980000</td>\n",
       "      <td>NaN</td>\n",
       "    </tr>\n",
       "    <tr>\n",
       "      <th>2017-03-10</th>\n",
       "      <td>49.299999</td>\n",
       "      <td>48.599998</td>\n",
       "      <td>49.242001</td>\n",
       "      <td>48.737999</td>\n",
       "      <td>15331500.0</td>\n",
       "      <td>48.737999</td>\n",
       "      <td>NaN</td>\n",
       "    </tr>\n",
       "  </tbody>\n",
       "</table>\n",
       "</div>"
      ],
      "text/plain": [
       "                 High        Low       Open      Close      Volume  Adj Close  \\\n",
       "Date                                                                            \n",
       "2017-03-06  50.340000  49.501999  49.582001  50.242001  16777500.0  50.242001   \n",
       "2017-03-07  50.778000  49.664001  50.383999  49.717999  17297500.0  49.717999   \n",
       "2017-03-08  50.014000  49.063999  49.400002  49.374001  18626000.0  49.374001   \n",
       "2017-03-09  49.731998  48.599998  49.526001  48.980000  19396500.0  48.980000   \n",
       "2017-03-10  49.299999  48.599998  49.242001  48.737999  15331500.0  48.737999   \n",
       "\n",
       "            Open:30 days roling  \n",
       "Date                             \n",
       "2017-03-06                  NaN  \n",
       "2017-03-07                  NaN  \n",
       "2017-03-08                  NaN  \n",
       "2017-03-09                  NaN  \n",
       "2017-03-10                  NaN  "
      ]
     },
     "execution_count": 34,
     "metadata": {},
     "output_type": "execute_result"
    }
   ],
   "source": [
    "df_tesla['Open:30 days roling']=df_tesla['Open'].rolling(30).mean()\n",
    "df_tesla.head()"
   ]
  },
  {
   "cell_type": "code",
   "execution_count": 37,
   "metadata": {},
   "outputs": [
    {
     "data": {
      "text/plain": [
       "<AxesSubplot:xlabel='Date'>"
      ]
     },
     "execution_count": 37,
     "metadata": {},
     "output_type": "execute_result"
    },
    {
     "data": {
      "image/png": "[encoded data removed]",
      "text/plain": [
       "<Figure size 864x360 with 1 Axes>"
      ]
     },
     "metadata": {
      "needs_background": "light"
     },
     "output_type": "display_data"
    }
   ],
   "source": [
    "df_tesla[['Open','Open:30 days roling']].plot(figsize=(12,5))"
   ]
  },
  {
   "cell_type": "code",
   "execution_count": 38,
   "metadata": {},
   "outputs": [
    {
     "data": {
      "text/html": [
       "<div>\n",
       "<style scoped>\n",
       "    .dataframe tbody tr th:only-of-type {\n",
       "        vertical-align: middle;\n",
       "    }\n",
       "\n",
       "    .dataframe tbody tr th {\n",
       "        vertical-align: top;\n",
       "    }\n",
       "\n",
       "    .dataframe thead th {\n",
       "        text-align: right;\n",
       "    }\n",
       "</style>\n",
       "<table border=\"1\" class=\"dataframe\">\n",
       "  <thead>\n",
       "    <tr style=\"text-align: right;\">\n",
       "      <th></th>\n",
       "      <th>High</th>\n",
       "      <th>Low</th>\n",
       "      <th>Open</th>\n",
       "      <th>Close</th>\n",
       "      <th>Volume</th>\n",
       "      <th>Adj Close</th>\n",
       "    </tr>\n",
       "    <tr>\n",
       "      <th>Date</th>\n",
       "      <th></th>\n",
       "      <th></th>\n",
       "      <th></th>\n",
       "      <th></th>\n",
       "      <th></th>\n",
       "      <th></th>\n",
       "    </tr>\n",
       "  </thead>\n",
       "  <tbody>\n",
       "    <tr>\n",
       "      <th>2017-03-06</th>\n",
       "      <td>64.559998</td>\n",
       "      <td>63.810001</td>\n",
       "      <td>63.970001</td>\n",
       "      <td>64.269997</td>\n",
       "      <td>18750300.0</td>\n",
       "      <td>59.995068</td>\n",
       "    </tr>\n",
       "    <tr>\n",
       "      <th>2017-03-07</th>\n",
       "      <td>64.779999</td>\n",
       "      <td>64.190002</td>\n",
       "      <td>64.190002</td>\n",
       "      <td>64.400002</td>\n",
       "      <td>18521000.0</td>\n",
       "      <td>60.116417</td>\n",
       "    </tr>\n",
       "    <tr>\n",
       "      <th>2017-03-08</th>\n",
       "      <td>65.080002</td>\n",
       "      <td>64.250000</td>\n",
       "      <td>64.260002</td>\n",
       "      <td>64.989998</td>\n",
       "      <td>21510900.0</td>\n",
       "      <td>60.667175</td>\n",
       "    </tr>\n",
       "    <tr>\n",
       "      <th>2017-03-09</th>\n",
       "      <td>65.199997</td>\n",
       "      <td>64.480003</td>\n",
       "      <td>65.190002</td>\n",
       "      <td>64.730003</td>\n",
       "      <td>19846800.0</td>\n",
       "      <td>60.424477</td>\n",
       "    </tr>\n",
       "    <tr>\n",
       "      <th>2017-03-10</th>\n",
       "      <td>65.260002</td>\n",
       "      <td>64.750000</td>\n",
       "      <td>65.110001</td>\n",
       "      <td>64.930000</td>\n",
       "      <td>19538200.0</td>\n",
       "      <td>60.611153</td>\n",
       "    </tr>\n",
       "    <tr>\n",
       "      <th>...</th>\n",
       "      <td>...</td>\n",
       "      <td>...</td>\n",
       "      <td>...</td>\n",
       "      <td>...</td>\n",
       "      <td>...</td>\n",
       "      <td>...</td>\n",
       "    </tr>\n",
       "    <tr>\n",
       "      <th>2022-02-25</th>\n",
       "      <td>297.630005</td>\n",
       "      <td>291.649994</td>\n",
       "      <td>295.140015</td>\n",
       "      <td>297.309998</td>\n",
       "      <td>32546700.0</td>\n",
       "      <td>297.309998</td>\n",
       "    </tr>\n",
       "    <tr>\n",
       "      <th>2022-02-28</th>\n",
       "      <td>299.140015</td>\n",
       "      <td>293.000000</td>\n",
       "      <td>294.309998</td>\n",
       "      <td>298.790009</td>\n",
       "      <td>34585700.0</td>\n",
       "      <td>298.790009</td>\n",
       "    </tr>\n",
       "    <tr>\n",
       "      <th>2022-03-01</th>\n",
       "      <td>299.970001</td>\n",
       "      <td>292.149994</td>\n",
       "      <td>296.399994</td>\n",
       "      <td>294.950012</td>\n",
       "      <td>31217800.0</td>\n",
       "      <td>294.950012</td>\n",
       "    </tr>\n",
       "    <tr>\n",
       "      <th>2022-03-02</th>\n",
       "      <td>301.470001</td>\n",
       "      <td>293.700012</td>\n",
       "      <td>295.359985</td>\n",
       "      <td>300.190002</td>\n",
       "      <td>31873000.0</td>\n",
       "      <td>300.190002</td>\n",
       "    </tr>\n",
       "    <tr>\n",
       "      <th>2022-03-03</th>\n",
       "      <td>303.130005</td>\n",
       "      <td>294.049988</td>\n",
       "      <td>302.890015</td>\n",
       "      <td>295.920013</td>\n",
       "      <td>27314469.0</td>\n",
       "      <td>295.920013</td>\n",
       "    </tr>\n",
       "  </tbody>\n",
       "</table>\n",
       "<p>1259 rows × 6 columns</p>\n",
       "</div>"
      ],
      "text/plain": [
       "                  High         Low        Open       Close      Volume  \\\n",
       "Date                                                                     \n",
       "2017-03-06   64.559998   63.810001   63.970001   64.269997  18750300.0   \n",
       "2017-03-07   64.779999   64.190002   64.190002   64.400002  18521000.0   \n",
       "2017-03-08   65.080002   64.250000   64.260002   64.989998  21510900.0   \n",
       "2017-03-09   65.199997   64.480003   65.190002   64.730003  19846800.0   \n",
       "2017-03-10   65.260002   64.750000   65.110001   64.930000  19538200.0   \n",
       "...                ...         ...         ...         ...         ...   \n",
       "2022-02-25  297.630005  291.649994  295.140015  297.309998  32546700.0   \n",
       "2022-02-28  299.140015  293.000000  294.309998  298.790009  34585700.0   \n",
       "2022-03-01  299.970001  292.149994  296.399994  294.950012  31217800.0   \n",
       "2022-03-02  301.470001  293.700012  295.359985  300.190002  31873000.0   \n",
       "2022-03-03  303.130005  294.049988  302.890015  295.920013  27314469.0   \n",
       "\n",
       "             Adj Close  \n",
       "Date                    \n",
       "2017-03-06   59.995068  \n",
       "2017-03-07   60.116417  \n",
       "2017-03-08   60.667175  \n",
       "2017-03-09   60.424477  \n",
       "2017-03-10   60.611153  \n",
       "...                ...  \n",
       "2022-02-25  297.309998  \n",
       "2022-02-28  298.790009  \n",
       "2022-03-01  294.950012  \n",
       "2022-03-02  300.190002  \n",
       "2022-03-03  295.920013  \n",
       "\n",
       "[1259 rows x 6 columns]"
      ]
     },
     "execution_count": 38,
     "metadata": {},
     "output_type": "execute_result"
    }
   ],
   "source": [
    "df_micro=pdr.get_data_yahoo('MSFT')\n",
    "df_micro"
   ]
  },
  {
   "cell_type": "code",
   "execution_count": 43,
   "metadata": {},
   "outputs": [],
   "source": [
    "df_micro.reset_index(inplace=True)"
   ]
  },
  {
   "cell_type": "code",
   "execution_count": 44,
   "metadata": {},
   "outputs": [],
   "source": [
    "m=df_micro['High'].max()"
   ]
  },
  {
   "cell_type": "code",
   "execution_count": 51,
   "metadata": {},
   "outputs": [
    {
     "data": {
      "text/html": [
       "<div>\n",
       "<style scoped>\n",
       "    .dataframe tbody tr th:only-of-type {\n",
       "        vertical-align: middle;\n",
       "    }\n",
       "\n",
       "    .dataframe tbody tr th {\n",
       "        vertical-align: top;\n",
       "    }\n",
       "\n",
       "    .dataframe thead th {\n",
       "        text-align: right;\n",
       "    }\n",
       "</style>\n",
       "<table border=\"1\" class=\"dataframe\">\n",
       "  <thead>\n",
       "    <tr style=\"text-align: right;\">\n",
       "      <th></th>\n",
       "      <th>Date</th>\n",
       "      <th>High</th>\n",
       "      <th>Low</th>\n",
       "      <th>Open</th>\n",
       "      <th>Close</th>\n",
       "      <th>Volume</th>\n",
       "      <th>Adj Close</th>\n",
       "    </tr>\n",
       "  </thead>\n",
       "  <tbody>\n",
       "    <tr>\n",
       "      <th>1189</th>\n",
       "      <td>2021-11-22</td>\n",
       "      <td>349.670013</td>\n",
       "      <td>339.549988</td>\n",
       "      <td>344.619995</td>\n",
       "      <td>339.829987</td>\n",
       "      <td>31031100.0</td>\n",
       "      <td>339.128754</td>\n",
       "    </tr>\n",
       "  </tbody>\n",
       "</table>\n",
       "</div>"
      ],
      "text/plain": [
       "           Date        High         Low        Open       Close      Volume  \\\n",
       "1189 2021-11-22  349.670013  339.549988  344.619995  339.829987  31031100.0   \n",
       "\n",
       "       Adj Close  \n",
       "1189  339.128754  "
      ]
     },
     "execution_count": 51,
     "metadata": {},
     "output_type": "execute_result"
    }
   ],
   "source": [
    "df_micro[df_micro['High']==m].groupby('Date').head()\n"
   ]
  },
  {
   "cell_type": "code",
   "execution_count": 52,
   "metadata": {},
   "outputs": [],
   "source": [
    "l=df_micro['Low'].min()"
   ]
  },
  {
   "cell_type": "code",
   "execution_count": 53,
   "metadata": {},
   "outputs": [
    {
     "data": {
      "text/html": [
       "<div>\n",
       "<style scoped>\n",
       "    .dataframe tbody tr th:only-of-type {\n",
       "        vertical-align: middle;\n",
       "    }\n",
       "\n",
       "    .dataframe tbody tr th {\n",
       "        vertical-align: top;\n",
       "    }\n",
       "\n",
       "    .dataframe thead th {\n",
       "        text-align: right;\n",
       "    }\n",
       "</style>\n",
       "<table border=\"1\" class=\"dataframe\">\n",
       "  <thead>\n",
       "    <tr style=\"text-align: right;\">\n",
       "      <th></th>\n",
       "      <th>Date</th>\n",
       "      <th>High</th>\n",
       "      <th>Low</th>\n",
       "      <th>Open</th>\n",
       "      <th>Close</th>\n",
       "      <th>Volume</th>\n",
       "      <th>Adj Close</th>\n",
       "    </tr>\n",
       "  </thead>\n",
       "  <tbody>\n",
       "    <tr>\n",
       "      <th>0</th>\n",
       "      <td>2017-03-06</td>\n",
       "      <td>64.559998</td>\n",
       "      <td>63.810001</td>\n",
       "      <td>63.970001</td>\n",
       "      <td>64.269997</td>\n",
       "      <td>18750300.0</td>\n",
       "      <td>59.995068</td>\n",
       "    </tr>\n",
       "  </tbody>\n",
       "</table>\n",
       "</div>"
      ],
      "text/plain": [
       "        Date       High        Low       Open      Close      Volume  \\\n",
       "0 2017-03-06  64.559998  63.810001  63.970001  64.269997  18750300.0   \n",
       "\n",
       "   Adj Close  \n",
       "0  59.995068  "
      ]
     },
     "execution_count": 53,
     "metadata": {},
     "output_type": "execute_result"
    }
   ],
   "source": [
    "df_micro[df_micro['Low']==l].groupby('Date').head()"
   ]
  },
  {
   "cell_type": "code",
   "execution_count": null,
   "metadata": {},
   "outputs": [],
   "source": []
  }
 ],
 "metadata": {
  "kernelspec": {
   "display_name": "Python 3",
   "language": "python",
   "name": "python3"
  },
  "language_info": {
   "codemirror_mode": {
    "name": "ipython",
    "version": 3
   },
   "file_extension": ".py",
   "mimetype": "text/x-python",
   "name": "python",
   "nbconvert_exporter": "python",
   "pygments_lexer": "ipython3",
   "version": "3.7.6"
  }
 },
 "nbformat": 4,
 "nbformat_minor": 4
}
